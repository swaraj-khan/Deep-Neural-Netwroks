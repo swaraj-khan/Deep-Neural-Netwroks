{
 "cells": [
  {
   "cell_type": "markdown",
   "metadata": {},
   "source": [
    "# Convolutional Neural Networks: Application\n",
    "\n",
    "Welcome to Course 4's second assignment! In this notebook, you will:\n",
    "\n",
    "- Create a mood classifer using the TF Keras Sequential API\n",
    "- Build a ConvNet to identify sign language digits using the TF Keras Functional API\n",
    "\n",
    "**After this assignment you will be able to:**\n",
    "\n",
    "- Build and train a ConvNet in TensorFlow for a __binary__ classification problem\n",
    "- Build and train a ConvNet in TensorFlow for a __multiclass__ classification problem\n",
    "- Explain different use cases for the Sequential and Functional APIs\n",
    "\n",
    "To complete this assignment, you should already be familiar with TensorFlow. If you are not, please refer back to the **TensorFlow Tutorial** of the third week of Course 2 (\"**Improving deep neural networks**\").\n",
    "\n",
    "## Important Note on Submission to the AutoGrader\n",
    "\n",
    "Before submitting your assignment to the AutoGrader, please make sure you are not doing the following:\n",
    "\n",
    "1. You have not added any _extra_ `print` statement(s) in the assignment.\n",
    "2. You have not added any _extra_ code cell(s) in the assignment.\n",
    "3. You have not changed any of the function parameters.\n",
    "4. You are not using any global variables inside your graded exercises. Unless specifically instructed to do so, please refrain from it and use the local variables instead.\n",
    "5. You are not changing the assignment code where it is not required, like creating _extra_ variables.\n",
    "\n",
    "If you do any of the following, you will get something like, `Grader Error: Grader feedback not found` (or similarly unexpected) error upon submitting your assignment. Before asking for help/debugging the errors in your assignment, check for these first. If this is the case, and you don't remember the changes you have made, you can get a fresh copy of the assignment by following these [instructions](https://www.coursera.org/learn/convolutional-neural-networks/supplement/DS4yP/h-ow-to-refresh-your-workspace)."
   ]
  },
  {
   "cell_type": "markdown",
   "metadata": {},
   "source": [
    "## Table of Contents\n",
    "\n",
    "- [1 - Packages](#1)\n",
    "    - [1.1 - Load the Data and Split the Data into Train/Test Sets](#1-1)\n",
    "- [2 - Layers in TF Keras](#2)\n",
    "- [3 - The Sequential API](#3)\n",
    "    - [3.1 - Create the Sequential Model](#3-1)\n",
    "        - [Exercise 1 - happyModel](#ex-1)\n",
    "    - [3.2 - Train and Evaluate the Model](#3-2)\n",
    "- [4 - The Functional API](#4)\n",
    "    - [4.1 - Load the SIGNS Dataset](#4-1)\n",
    "    - [4.2 - Split the Data into Train/Test Sets](#4-2)\n",
    "    - [4.3 - Forward Propagation](#4-3)\n",
    "        - [Exercise 2 - convolutional_model](#ex-2)\n",
    "    - [4.4 - Train the Model](#4-4)\n",
    "- [5 - History Object](#5)\n",
    "- [6 - Bibliography](#6)"
   ]
  },
  {
   "cell_type": "markdown",
   "metadata": {},
   "source": [
    "<a name='1'></a>\n",
    "## 1 - Packages\n",
    "\n",
    "As usual, begin by loading in the packages."
   ]
  },
  {
   "cell_type": "code",
   "execution_count": 1,
   "metadata": {
    "deletable": false,
    "editable": false
   },
   "outputs": [],
   "source": [
    "### v1.1"
   ]
  },
  {
   "cell_type": "code",
   "execution_count": 2,
   "metadata": {},
   "outputs": [],
   "source": [
    "import math\n",
    "import numpy as np\n",
    "import h5py\n",
    "import matplotlib.pyplot as plt\n",
    "from matplotlib.pyplot import imread\n",
    "import scipy\n",
    "from PIL import Image\n",
    "import pandas as pd\n",
    "import tensorflow as tf\n",
    "import tensorflow.keras.layers as tfl\n",
    "from tensorflow.python.framework import ops\n",
    "from cnn_utils import *\n",
    "from test_utils import summary, comparator\n",
    "\n",
    "%matplotlib inline\n",
    "np.random.seed(1)"
   ]
  },
  {
   "cell_type": "markdown",
   "metadata": {},
   "source": [
    "<a name='1-1'></a>\n",
    "### 1.1 - Load the Data and Split the Data into Train/Test Sets\n",
    "\n",
    "You'll be using the Happy House dataset for this part of the assignment, which contains images of peoples' faces. Your task will be to build a ConvNet that determines whether the people in the images are smiling or not -- because they only get to enter the house if they're smiling!  "
   ]
  },
  {
   "cell_type": "code",
   "execution_count": 3,
   "metadata": {},
   "outputs": [
    {
     "name": "stdout",
     "output_type": "stream",
     "text": [
      "number of training examples = 600\n",
      "number of test examples = 150\n",
      "X_train shape: (600, 64, 64, 3)\n",
      "Y_train shape: (600, 1)\n",
      "X_test shape: (150, 64, 64, 3)\n",
      "Y_test shape: (150, 1)\n"
     ]
    }
   ],
   "source": [
    "X_train_orig, Y_train_orig, X_test_orig, Y_test_orig, classes = load_happy_dataset()\n",
    "\n",
    "# Normalize image vectors\n",
    "X_train = X_train_orig/255.\n",
    "X_test = X_test_orig/255.\n",
    "\n",
    "# Reshape\n",
    "Y_train = Y_train_orig.T\n",
    "Y_test = Y_test_orig.T\n",
    "\n",
    "print (\"number of training examples = \" + str(X_train.shape[0]))\n",
    "print (\"number of test examples = \" + str(X_test.shape[0]))\n",
    "print (\"X_train shape: \" + str(X_train.shape))\n",
    "print (\"Y_train shape: \" + str(Y_train.shape))\n",
    "print (\"X_test shape: \" + str(X_test.shape))\n",
    "print (\"Y_test shape: \" + str(Y_test.shape))"
   ]
  },
  {
   "cell_type": "markdown",
   "metadata": {},
   "source": [
    "You can display the images contained in the dataset. Images are **64x64** pixels in RGB format (3 channels)."
   ]
  },
  {
   "cell_type": "code",
   "execution_count": 6,
   "metadata": {},
   "outputs": [
    {
     "data": {
      "image/png": "[encoded data removed]",
      "text/plain": [
       "<Figure size 432x288 with 1 Axes>"
      ]
     },
     "metadata": {
      "needs_background": "light"
     },
     "output_type": "display_data"
    }
   ],
   "source": [
    "index = 124\n",
    "plt.imshow(X_train_orig[index]) #display sample training image\n",
    "plt.show()"
   ]
  },
  {
   "cell_type": "markdown",
   "metadata": {},
   "source": [
    "<a name='2'></a>\n",
    "## 2 - Layers in TF Keras \n",
    "\n",
    "In the previous assignment, you created layers manually in numpy. In TF Keras, you don't have to write code directly to create layers. Rather, TF Keras has pre-defined layers you can use. \n",
    "\n",
    "When you create a layer in TF Keras, you are creating a function that takes some input and transforms it into an output you can reuse later. Nice and easy! "
   ]
  },
  {
   "cell_type": "markdown",
   "metadata": {},
   "source": [
    "<a name='3'></a>\n",
    "## 3 - The Sequential API\n",
    "\n",
    "In the previous assignment, you built helper functions using `numpy` to understand the mechanics behind convolutional neural networks. Most practical applications of deep learning today are built using programming frameworks, which have many built-in functions you can simply call. Keras is a high-level abstraction built on top of TensorFlow, which allows for even more simplified and optimized model creation and training. \n",
    "\n",
    "For the first part of this assignment, you'll create a model using TF Keras' Sequential API, which allows you to build layer by layer, and is ideal for building models where each layer has **exactly one** input tensor and **one** output tensor. \n",
    "\n",
    "As you'll see, using the Sequential API is simple and straightforward, but is only appropriate for simpler, more straightforward tasks. Later in this notebook you'll spend some time building with a more flexible, powerful alternative: the Functional API. \n",
    " "
   ]
  },
  {
   "cell_type": "markdown",
   "metadata": {},
   "source": [
    "<a name='3-1'></a>\n",
    "### 3.1 - Create the Sequential Model\n",
    "\n",
    "As mentioned earlier, the TensorFlow Keras Sequential API can be used to build simple models with layer operations that proceed in a sequential order. \n",
    "\n",
    "You can also add layers incrementally to a Sequential model with the `.add()` method, or remove them using the `.pop()` method, much like you would in a regular Python list.\n",
    "\n",
    "Actually, you can think of a Sequential model as behaving like a list of layers. Like Python lists, Sequential layers are ordered, and the order in which they are specified matters.  If your model is non-linear or contains layers with multiple inputs or outputs, a Sequential model wouldn't be the right choice!\n",
    "\n",
    "For any layer construction in Keras, you'll need to specify the input shape in advance. This is because in Keras, the shape of the weights is based on the shape of the inputs. The weights are only created when the model first sees some input data. Sequential models can be created by passing a list of layers to the Sequential constructor, like you will do in the next assignment.\n",
    "\n",
    "<a name='ex-1'></a>\n",
    "### Exercise 1 - happyModel\n",
    "\n",
    "Implement the `happyModel` function below to build the following model: `ZEROPAD2D -> CONV2D -> BATCHNORM -> RELU -> MAXPOOL -> FLATTEN -> DENSE`. Take help from [tf.keras.layers](https://www.tensorflow.org/api_docs/python/tf/keras/layers) \n",
    "\n",
    "Also, plug in the following parameters for all the steps:\n",
    "\n",
    " - [ZeroPadding2D](https://www.tensorflow.org/api_docs/python/tf/keras/layers/ZeroPadding2D): padding 3, input shape 64 x 64 x 3\n",
    " - [Conv2D](https://www.tensorflow.org/api_docs/python/tf/keras/layers/Conv2D): Use 32 7x7 filters, stride 1\n",
    " - [BatchNormalization](https://www.tensorflow.org/api_docs/python/tf/keras/layers/BatchNormalization): for axis 3\n",
    " - [ReLU](https://www.tensorflow.org/api_docs/python/tf/keras/layers/ReLU)\n",
    " - [MaxPool2D](https://www.tensorflow.org/api_docs/python/tf/keras/layers/MaxPool2D): Using default parameters\n",
    " - [Flatten](https://www.tensorflow.org/api_docs/python/tf/keras/layers/Flatten) the previous output.\n",
    " - Fully-connected ([Dense](https://www.tensorflow.org/api_docs/python/tf/keras/layers/Dense)) layer: Apply a fully connected layer with 1 neuron and a sigmoid activation. \n",
    " \n",
    " \n",
    " **Hint:**\n",
    " \n",
    " Use **tfl** as shorthand for **tensorflow.keras.layers**"
   ]
  },
  {
   "cell_type": "code",
   "execution_count": 7,
   "metadata": {
    "deletable": false,
    "nbgrader": {
     "cell_type": "code",
     "checksum": "95d28b191f257bdd5b70c7b8952559d5",
     "grade": false,
     "grade_id": "cell-0e56d3fc28b69aec",
     "locked": false,
     "schema_version": 3,
     "solution": true,
     "task": false
    }
   },
   "outputs": [],
   "source": [
    "# GRADED FUNCTION: happyModel\n",
    "\n",
    "def happyModel():\n",
    "    \"\"\"\n",
    "    Implements the forward propagation for the binary classification model:\n",
    "    ZEROPAD2D -> CONV2D -> BATCHNORM -> RELU -> MAXPOOL -> FLATTEN -> DENSE\n",
    "    \n",
    "    Note that for simplicity and grading purposes, you'll hard-code all the values\n",
    "    such as the stride and kernel (filter) sizes. \n",
    "    Normally, functions should take these values as function parameters.\n",
    "    \n",
    "    Arguments:\n",
    "    None\n",
    "\n",
    "    Returns:\n",
    "    model -- TF Keras model (object containing the information for the entire training process) \n",
    "    \"\"\"\n",
    "    model = tf.keras.Sequential([\n",
    "            ## ZeroPadding2D with padding 3, input shape of 64 x 64 x 3\n",
    "            tfl.ZeroPadding2D(padding=(3, 3), input_shape=(64, 64, 3)),\n",
    "            ## Conv2D with 32 7x7 filters and stride of 1\n",
    "            tfl.Conv2D(32, (7,7)),\n",
    "            ## BatchNormalization for axis 3\n",
    "            tfl.BatchNormalization(axis=-1),\n",
    "            ## ReLU\n",
    "            tfl.ReLU(),\n",
    "            ## Max Pooling 2D with default parameters\n",
    "            tfl.MaxPool2D(),\n",
    "            ## Flatten layer\n",
    "            tfl.Flatten(),\n",
    "            ## Dense layer with 1 unit for output & 'sigmoid' activation\n",
    "            tfl.Dense(1, activation='sigmoid')\n",
    "        ])\n",
    "    \n",
    "    return model"
   ]
  },
  {
   "cell_type": "code",
   "execution_count": 8,
   "metadata": {
    "deletable": false,
    "editable": false,
    "nbgrader": {
     "cell_type": "code",
     "checksum": "8d3575c950e2e78149be2d05d671c80d",
     "grade": true,
     "grade_id": "cell-e3e1046e5c33d775",
     "locked": true,
     "points": 10,
     "schema_version": 3,
     "solution": false,
     "task": false
    }
   },
   "outputs": [
    {
     "name": "stdout",
     "output_type": "stream",
     "text": [
      "['ZeroPadding2D', (None, 70, 70, 3), 0, ((3, 3), (3, 3))]\n",
      "['Conv2D', (None, 64, 64, 32), 4736, 'valid', 'linear', 'GlorotUniform']\n",
      "['BatchNormalization', (None, 64, 64, 32), 128]\n",
      "['ReLU', (None, 64, 64, 32), 0]\n",
      "['MaxPooling2D', (None, 32, 32, 32), 0, (2, 2), (2, 2), 'valid']\n",
      "['Flatten', (None, 32768), 0]\n",
      "['Dense', (None, 1), 32769, 'sigmoid']\n",
      "\u001b[32mAll tests passed!\u001b[0m\n"
     ]
    }
   ],
   "source": [
    "happy_model = happyModel()\n",
    "# Print a summary for each layer\n",
    "for layer in summary(happy_model):\n",
    "    print(layer)\n",
    "    \n",
    "output = [['ZeroPadding2D', (None, 70, 70, 3), 0, ((3, 3), (3, 3))],\n",
    "            ['Conv2D', (None, 64, 64, 32), 4736, 'valid', 'linear', 'GlorotUniform'],\n",
    "            ['BatchNormalization', (None, 64, 64, 32), 128],\n",
    "            ['ReLU', (None, 64, 64, 32), 0],\n",
    "            ['MaxPooling2D', (None, 32, 32, 32), 0, (2, 2), (2, 2), 'valid'],\n",
    "            ['Flatten', (None, 32768), 0],\n",
    "            ['Dense', (None, 1), 32769, 'sigmoid']]\n",
    "    \n",
    "comparator(summary(happy_model), output)"
   ]
  },
  {
   "cell_type": "markdown",
   "metadata": {},
   "source": [
    "#### Expected Output:\n",
    "\n",
    "```\n",
    "['ZeroPadding2D', (None, 70, 70, 3), 0, ((3, 3), (3, 3))]\n",
    "['Conv2D', (None, 64, 64, 32), 4736, 'valid', 'linear', 'GlorotUniform']\n",
    "['BatchNormalization', (None, 64, 64, 32), 128]\n",
    "['ReLU', (None, 64, 64, 32), 0]\n",
    "['MaxPooling2D', (None, 32, 32, 32), 0, (2, 2), (2, 2), 'valid']\n",
    "['Flatten', (None, 32768), 0]\n",
    "['Dense', (None, 1), 32769, 'sigmoid']\n",
    "All tests passed!\n",
    "```"
   ]
  },
  {
   "cell_type": "markdown",
   "metadata": {},
   "source": [
    "Now that your model is created, you can compile it for training with an optimizer and loss of your choice. When the string `accuracy` is specified as a metric, the type of accuracy used will be automatically converted based on the loss function used. This is one of the many optimizations built into TensorFlow that make your life easier! If you'd like to read more on how the compiler operates, check the docs [here](https://www.tensorflow.org/api_docs/python/tf/keras/Model#compile)."
   ]
  },
  {
   "cell_type": "code",
   "execution_count": 9,
   "metadata": {},
   "outputs": [],
   "source": [
    "happy_model.compile(optimizer='adam',\n",
    "                   loss='binary_crossentropy',\n",
    "                   metrics=['accuracy'])"
   ]
  },
  {
   "cell_type": "markdown",
   "metadata": {},
   "source": [
    "It's time to check your model's parameters with the `.summary()` method. This will display the types of layers you have, the shape of the outputs, and how many parameters are in each layer. "
   ]
  },
  {
   "cell_type": "code",
   "execution_count": 10,
   "metadata": {},
   "outputs": [
    {
     "name": "stdout",
     "output_type": "stream",
     "text": [
      "Model: \"sequential\"\n",
      "_________________________________________________________________\n",
      "Layer (type)                 Output Shape              Param #   \n",
      "=================================================================\n",
      "zero_padding2d (ZeroPadding2 (None, 70, 70, 3)         0         \n",
      "_________________________________________________________________\n",
      "conv2d (Conv2D)              (None, 64, 64, 32)        4736      \n",
      "_________________________________________________________________\n",
      "batch_normalization (BatchNo (None, 64, 64, 32)        128       \n",
      "_________________________________________________________________\n",
      "re_lu (ReLU)                 (None, 64, 64, 32)        0         \n",
      "_________________________________________________________________\n",
      "max_pooling2d (MaxPooling2D) (None, 32, 32, 32)        0         \n",
      "_________________________________________________________________\n",
      "flatten (Flatten)            (None, 32768)             0         \n",
      "_________________________________________________________________\n",
      "dense (Dense)                (None, 1)                 32769     \n",
      "=================================================================\n",
      "Total params: 37,633\n",
      "Trainable params: 37,569\n",
      "Non-trainable params: 64\n",
      "_________________________________________________________________\n"
     ]
    }
   ],
   "source": [
    "happy_model.summary()"
   ]
  },
  {
   "cell_type": "markdown",
   "metadata": {},
   "source": [
    "<a name='3-2'></a>\n",
    "### 3.2 - Train and Evaluate the Model\n",
    "\n",
    "After creating the model, compiling it with your choice of optimizer and loss function, and doing a sanity check on its contents, you are now ready to build! \n",
    "\n",
    "Simply call `.fit()` to train. That's it! No need for mini-batching, saving, or complex backpropagation computations. That's all been done for you, as you're using a TensorFlow dataset with the batches specified already. You do have the option to specify epoch number or minibatch size if you like (for example, in the case of an un-batched dataset)."
   ]
  },
  {
   "cell_type": "code",
   "execution_count": 11,
   "metadata": {},
   "outputs": [
    {
     "name": "stdout",
     "output_type": "stream",
     "text": [
      "Epoch 1/10\n",
      "38/38 [==============================] - 4s 97ms/step - loss: 2.0247 - accuracy: 0.6283\n",
      "Epoch 2/10\n",
      "38/38 [==============================] - 3s 92ms/step - loss: 0.4051 - accuracy: 0.8467\n",
      "Epoch 3/10\n",
      "38/38 [==============================] - 4s 92ms/step - loss: 0.2218 - accuracy: 0.9100\n",
      "Epoch 4/10\n",
      "38/38 [==============================] - 3s 90ms/step - loss: 0.1447 - accuracy: 0.9367\n",
      "Epoch 5/10\n",
      "38/38 [==============================] - 4s 92ms/step - loss: 0.1729 - accuracy: 0.9367\n",
      "Epoch 6/10\n",
      "38/38 [==============================] - 3s 90ms/step - loss: 0.1674 - accuracy: 0.9350\n",
      "Epoch 7/10\n",
      "38/38 [==============================] - 3s 92ms/step - loss: 0.1334 - accuracy: 0.9617\n",
      "Epoch 8/10\n",
      "38/38 [==============================] - 3s 90ms/step - loss: 0.1270 - accuracy: 0.9583\n",
      "Epoch 9/10\n",
      "38/38 [==============================] - 3s 92ms/step - loss: 0.1172 - accuracy: 0.9500\n",
      "Epoch 10/10\n",
      "38/38 [==============================] - 3s 92ms/step - loss: 0.1364 - accuracy: 0.9450\n"
     ]
    },
    {
     "data": {
      "text/plain": [
       "<tensorflow.python.keras.callbacks.History at 0x7f066b226310>"
      ]
     },
     "execution_count": 11,
     "metadata": {},
     "output_type": "execute_result"
    }
   ],
   "source": [
    "happy_model.fit(X_train, Y_train, epochs=10, batch_size=16)"
   ]
  },
  {
   "cell_type": "markdown",
   "metadata": {},
   "source": [
    "After that completes, just use `.evaluate()` to evaluate against your test set. This function will print the value of the loss function and the performance metrics specified during the compilation of the model. In this case, the `binary_crossentropy` and the `accuracy` respectively."
   ]
  },
  {
   "cell_type": "code",
   "execution_count": 12,
   "metadata": {},
   "outputs": [
    {
     "name": "stdout",
     "output_type": "stream",
     "text": [
      "5/5 [==============================] - 0s 23ms/step - loss: 0.1499 - accuracy: 0.9400\n"
     ]
    },
    {
     "data": {
      "text/plain": [
       "[0.1499343067407608, 0.9399999976158142]"
      ]
     },
     "execution_count": 12,
     "metadata": {},
     "output_type": "execute_result"
    }
   ],
   "source": [
    "happy_model.evaluate(X_test, Y_test)"
   ]
  },
  {
   "cell_type": "markdown",
   "metadata": {},
   "source": [
    "Easy, right? But what if you need to build a model with shared layers, branches, or multiple inputs and outputs? This is where Sequential, with its beautifully simple yet limited functionality, won't be able to help you. \n",
    "\n",
    "Next up: Enter the Functional API, your slightly more complex, highly flexible friend.  "
   ]
  },
  {
   "cell_type": "markdown",
   "metadata": {},
   "source": [
    "<a name='4'></a>\n",
    "## 4 - The Functional API"
   ]
  },
  {
   "cell_type": "markdown",
   "metadata": {},
   "source": [
    "Welcome to the second half of the assignment, where you'll use Keras' flexible [Functional API](https://www.tensorflow.org/guide/keras/functional) to build a ConvNet that can differentiate between 6 sign language digits. \n",
    "\n",
    "The Functional API can handle models with non-linear topology, shared layers, as well as layers with multiple inputs or outputs. Imagine that, where the Sequential API requires the model to move in a linear fashion through its layers, the Functional API allows much more flexibility. Where Sequential is a straight line, a Functional model is a graph, where the nodes of the layers can connect in many more ways than one. \n",
    "\n",
    "In the visual example below, the one possible direction of the movement Sequential model is shown in contrast to a skip connection, which is just one of the many ways a Functional model can be constructed. A skip connection, as you might have guessed, skips some layer in the network and feeds the output to a later layer in the network. Don't worry, you'll be spending more time with skip connections very soon! "
   ]
  },
  {
   "cell_type": "markdown",
   "metadata": {},
   "source": [
    "<img src=\"images/seq_vs_func.png\" style=\"width:350px;height:200px;\">"
   ]
  },
  {
   "cell_type": "markdown",
   "metadata": {},
   "source": [
    "<a name='4-1'></a>\n",
    "### 4.1 - Load the SIGNS Dataset\n",
    "\n",
    "As a reminder, the SIGNS dataset is a collection of 6 signs representing numbers from 0 to 5."
   ]
  },
  {
   "cell_type": "code",
   "execution_count": 13,
   "metadata": {},
   "outputs": [],
   "source": [
    "# Loading the data (signs)\n",
    "X_train_orig, Y_train_orig, X_test_orig, Y_test_orig, classes = load_signs_dataset()"
   ]
  },
  {
   "cell_type": "markdown",
   "metadata": {},
   "source": [
    "<img src=\"images/SIGNS.png\" style=\"width:800px;height:300px;\">\n",
    "\n",
    "The next cell will show you an example of a labelled image in the dataset. Feel free to change the value of `index` below and re-run to see different examples. "
   ]
  },
  {
   "cell_type": "code",
   "execution_count": 14,
   "metadata": {},
   "outputs": [
    {
     "name": "stdout",
     "output_type": "stream",
     "text": [
      "y = 4\n"
     ]
    },
    {
     "data": {
      "image/png": "[encoded data removed]",
      "text/plain": [
       "<Figure size 432x288 with 1 Axes>"
      ]
     },
     "metadata": {
      "needs_background": "light"
     },
     "output_type": "display_data"
    }
   ],
   "source": [
    "# Example of an image from the dataset\n",
    "index = 9\n",
    "plt.imshow(X_train_orig[index])\n",
    "print (\"y = \" + str(np.squeeze(Y_train_orig[:, index])))"
   ]
  },
  {
   "cell_type": "markdown",
   "metadata": {},
   "source": [
    "<a name='4-2'></a>\n",
    "### 4.2 - Split the Data into Train/Test Sets\n",
    "\n",
    "In Course 2, you built a fully-connected network for this dataset. But since this is an image dataset, it is more natural to apply a ConvNet to it.\n",
    "\n",
    "To get started, let's examine the shapes of your data. "
   ]
  },
  {
   "cell_type": "code",
   "execution_count": 15,
   "metadata": {},
   "outputs": [
    {
     "name": "stdout",
     "output_type": "stream",
     "text": [
      "number of training examples = 1080\n",
      "number of test examples = 120\n",
      "X_train shape: (1080, 64, 64, 3)\n",
      "Y_train shape: (1080, 6)\n",
      "X_test shape: (120, 64, 64, 3)\n",
      "Y_test shape: (120, 6)\n"
     ]
    }
   ],
   "source": [
    "X_train = X_train_orig/255.\n",
    "X_test = X_test_orig/255.\n",
    "Y_train = convert_to_one_hot(Y_train_orig, 6).T\n",
    "Y_test = convert_to_one_hot(Y_test_orig, 6).T\n",
    "print (\"number of training examples = \" + str(X_train.shape[0]))\n",
    "print (\"number of test examples = \" + str(X_test.shape[0]))\n",
    "print (\"X_train shape: \" + str(X_train.shape))\n",
    "print (\"Y_train shape: \" + str(Y_train.shape))\n",
    "print (\"X_test shape: \" + str(X_test.shape))\n",
    "print (\"Y_test shape: \" + str(Y_test.shape))"
   ]
  },
  {
   "cell_type": "markdown",
   "metadata": {},
   "source": [
    "<a name='4-3'></a>\n",
    "### 4.3 - Forward Propagation\n",
    "\n",
    "In TensorFlow, there are built-in functions that implement the convolution steps for you. By now, you should be familiar with how TensorFlow builds computational graphs. In the [Functional API](https://www.tensorflow.org/guide/keras/functional), you create a graph of layers. This is what allows such great flexibility.\n",
    "\n",
    "However, the following model could also be defined using the Sequential API since the information flow is on a single line. But don't deviate. What we want you to learn is to use the functional API.\n",
    "\n",
    "Begin building your graph of layers by creating an input node that functions as a callable object:\n",
    "\n",
    "- **input_img = tf.keras.Input(shape=input_shape):** \n",
    "\n",
    "Then, create a new node in the graph of layers by calling a layer on the `input_img` object: \n",
    "\n",
    "- **tf.keras.layers.Conv2D(filters= ... , kernel_size= ... , padding='same')(input_img):** Read the full documentation on [Conv2D](https://www.tensorflow.org/api_docs/python/tf/keras/layers/Conv2D).\n",
    "\n",
    "- **tf.keras.layers.MaxPool2D(pool_size=(f, f), strides=(s, s), padding='same'):** `MaxPool2D()` downsamples your input using a window of size (f, f) and strides of size (s, s) to carry out max pooling over each window.  For max pooling, you usually operate on a single example at a time and a single channel at a time. Read the full documentation on [MaxPool2D](https://www.tensorflow.org/api_docs/python/tf/keras/layers/MaxPool2D).\n",
    "\n",
    "- **tf.keras.layers.ReLU():** computes the elementwise ReLU of Z (which can be any shape). You can read the full documentation on [ReLU](https://www.tensorflow.org/api_docs/python/tf/keras/layers/ReLU).\n",
    "\n",
    "- **tf.keras.layers.Flatten()**: given a tensor \"P\", this function takes each training (or test) example in the batch and flattens it into a 1D vector.  \n",
    "\n",
    "    * If a tensor P has the shape (batch_size,h,w,c), it returns a flattened tensor with shape (batch_size, k), where $k=h \\times w \\times c$.  \"k\" equals the product of all the dimension sizes other than the first dimension.\n",
    "    \n",
    "    * For example, given a tensor with dimensions [100, 2, 3, 4], it flattens the tensor to be of shape [100, 24], where 24 = 2 * 3 * 4.  You can read the full documentation on [Flatten](https://www.tensorflow.org/api_docs/python/tf/keras/layers/Flatten).\n",
    "\n",
    "- **tf.keras.layers.Dense(units= ... , activation='softmax')(F):** given the flattened input F, it returns the output computed using a fully connected layer. You can read the full documentation on [Dense](https://www.tensorflow.org/api_docs/python/tf/keras/layers/Dense).\n",
    "\n",
    "In the last function above (`tf.keras.layers.Dense()`), the fully connected layer automatically initializes weights in the graph and keeps on training them as you train the model. Hence, you did not need to initialize those weights when initializing the parameters.\n",
    "\n",
    "Lastly, before creating the model, you'll need to define the output using the last of the function's compositions (in this example, a Dense layer): \n",
    "\n",
    "- **outputs = tf.keras.layers.Dense(units=6, activation='softmax')(F)**\n",
    "\n",
    "\n",
    "#### Window, kernel, filter, pool\n",
    "\n",
    "The words \"kernel\" and \"filter\" are used to refer to the same thing. The word \"filter\" accounts for the amount of \"kernels\" that will be used in a single convolution layer. \"Pool\" is the name of the operation that takes the max or average value of the kernels. \n",
    "\n",
    "This is why the parameter `pool_size` refers to `kernel_size`, and you use `(f,f)` to refer to the filter size. \n",
    "\n",
    "Pool size and kernel size refer to the same thing in different objects - They refer to the shape of the window where the operation takes place. "
   ]
  },
  {
   "cell_type": "markdown",
   "metadata": {},
   "source": [
    "<a name='ex-2'></a>\n",
    "### Exercise 2 - convolutional_model\n",
    "\n",
    "Implement the `convolutional_model` function below to build the following model: `CONV2D -> RELU -> MAXPOOL -> CONV2D -> RELU -> MAXPOOL -> FLATTEN -> DENSE`. Use the functions above! \n",
    "\n",
    "Also, plug in the following parameters for all the steps:\n",
    "\n",
    " - [Conv2D](https://www.tensorflow.org/api_docs/python/tf/keras/layers/Conv2D): Use 8 4 by 4 filters, stride 1, padding is \"SAME\"\n",
    " - [ReLU](https://www.tensorflow.org/api_docs/python/tf/keras/layers/ReLU)\n",
    " - [MaxPool2D](https://www.tensorflow.org/api_docs/python/tf/keras/layers/MaxPool2D): Use an 8 by 8 filter size and an 8 by 8 stride, padding is \"SAME\"\n",
    " - **Conv2D**: Use 16 2 by 2 filters, stride 1, padding is \"SAME\"\n",
    " - **ReLU**\n",
    " - **MaxPool2D**: Use a 4 by 4 filter size and a 4 by 4 stride, padding is \"SAME\"\n",
    " - [Flatten](https://www.tensorflow.org/api_docs/python/tf/keras/layers/Flatten) the previous output.\n",
    " - Fully-connected ([Dense](https://www.tensorflow.org/api_docs/python/tf/keras/layers/Dense)) layer: Apply a fully connected layer with 6 neurons and a softmax activation. "
   ]
  },
  {
   "cell_type": "code",
   "execution_count": 16,
   "metadata": {
    "deletable": false,
    "nbgrader": {
     "cell_type": "code",
     "checksum": "f58643806aa8380c96225fc8b4c5e7aa",
     "grade": false,
     "grade_id": "cell-dac51744a9e03f51",
     "locked": false,
     "schema_version": 3,
     "solution": true,
     "task": false
    }
   },
   "outputs": [],
   "source": [
    "# GRADED FUNCTION: convolutional_model\n",
    "\n",
    "def convolutional_model(input_shape):\n",
    "    \"\"\"\n",
    "    Implements the forward propagation for the model:\n",
    "    CONV2D -> RELU -> MAXPOOL -> CONV2D -> RELU -> MAXPOOL -> FLATTEN -> DENSE\n",
    "    \n",
    "    Note that for simplicity and grading purposes, you'll hard-code some values\n",
    "    such as the stride and kernel (filter) sizes. \n",
    "    Normally, functions should take these values as function parameters.\n",
    "    \n",
    "    Arguments:\n",
    "    input_img -- input dataset, of shape (input_shape)\n",
    "\n",
    "    Returns:\n",
    "    model -- TF Keras model (object containing the information for the entire training process) \n",
    "    \"\"\"\n",
    "\n",
    "    input_img = tf.keras.Input(shape=input_shape)\n",
    "    ## CONV2D: 8 filters 4x4, stride of 1, padding 'SAME'\n",
    "    # Z1 = None\n",
    "    ## RELU\n",
    "    # A1 = None\n",
    "    ## MAXPOOL: window 8x8, stride 8, padding 'SAME'\n",
    "    # P1 = None\n",
    "    ## CONV2D: 16 filters 2x2, stride 1, padding 'SAME'\n",
    "    # Z2 = None\n",
    "    ## RELU\n",
    "    # A2 = None\n",
    "    ## MAXPOOL: window 4x4, stride 4, padding 'SAME'\n",
    "    # P2 = None\n",
    "    ## FLATTEN\n",
    "    # F = None\n",
    "    ## Dense layer\n",
    "    ## 6 neurons in output layer. Hint: one of the arguments should be \"activation='softmax'\" \n",
    "    # outputs = None\n",
    "    # YOUR CODE STARTS HERE\n",
    "    Z1 = tfl.Conv2D(8, 4, activation='linear', padding=\"same\", strides=1)(input_img)\n",
    "    A1 = tfl.ReLU()(Z1)\n",
    "    P1 = tfl.MaxPool2D(pool_size=(8, 8), strides=(8, 8), padding='same')(A1)\n",
    "    Z2 = tfl.Conv2D(16, 2, activation='linear', padding=\"same\", strides=1)(P1)\n",
    "    A2 = tfl.ReLU()(Z2)\n",
    "    P2 = tfl.MaxPool2D(pool_size=(4, 4), strides=(4, 4), padding='same')(A2)\n",
    "    F = tfl.Flatten()(P2)\n",
    "    outputs = tfl.Dense(6, activation='softmax')(F)\n",
    "    \n",
    "    \n",
    "    # YOUR CODE ENDS HERE\n",
    "    model = tf.keras.Model(inputs=input_img, outputs=outputs)\n",
    "    return model"
   ]
  },
  {
   "cell_type": "code",
   "execution_count": 17,
   "metadata": {
    "deletable": false,
    "editable": false,
    "nbgrader": {
     "cell_type": "code",
     "checksum": "483d626949930a0b0ef20997e7c6ba72",
     "grade": true,
     "grade_id": "cell-45d22e92042174c9",
     "locked": true,
     "points": 10,
     "schema_version": 3,
     "solution": false,
     "task": false
    }
   },
   "outputs": [
    {
     "name": "stdout",
     "output_type": "stream",
     "text": [
      "Model: \"functional_1\"\n",
      "_________________________________________________________________\n",
      "Layer (type)                 Output Shape              Param #   \n",
      "=================================================================\n",
      "input_1 (InputLayer)         [(None, 64, 64, 3)]       0         \n",
      "_________________________________________________________________\n",
      "conv2d_1 (Conv2D)            (None, 64, 64, 8)         392       \n",
      "_________________________________________________________________\n",
      "re_lu_1 (ReLU)               (None, 64, 64, 8)         0         \n",
      "_________________________________________________________________\n",
      "max_pooling2d_1 (MaxPooling2 (None, 8, 8, 8)           0         \n",
      "_________________________________________________________________\n",
      "conv2d_2 (Conv2D)            (None, 8, 8, 16)          528       \n",
      "_________________________________________________________________\n",
      "re_lu_2 (ReLU)               (None, 8, 8, 16)          0         \n",
      "_________________________________________________________________\n",
      "max_pooling2d_2 (MaxPooling2 (None, 2, 2, 16)          0         \n",
      "_________________________________________________________________\n",
      "flatten_1 (Flatten)          (None, 64)                0         \n",
      "_________________________________________________________________\n",
      "dense_1 (Dense)              (None, 6)                 390       \n",
      "=================================================================\n",
      "Total params: 1,310\n",
      "Trainable params: 1,310\n",
      "Non-trainable params: 0\n",
      "_________________________________________________________________\n",
      "\u001b[32mAll tests passed!\u001b[0m\n"
     ]
    }
   ],
   "source": [
    "conv_model = convolutional_model((64, 64, 3))\n",
    "conv_model.compile(optimizer='adam',\n",
    "                  loss='categorical_crossentropy',\n",
    "                  metrics=['accuracy'])\n",
    "conv_model.summary()\n",
    "    \n",
    "output = [['InputLayer', [(None, 64, 64, 3)], 0],\n",
    "        ['Conv2D', (None, 64, 64, 8), 392, 'same', 'linear', 'GlorotUniform'],\n",
    "        ['ReLU', (None, 64, 64, 8), 0],\n",
    "        ['MaxPooling2D', (None, 8, 8, 8), 0, (8, 8), (8, 8), 'same'],\n",
    "        ['Conv2D', (None, 8, 8, 16), 528, 'same', 'linear', 'GlorotUniform'],\n",
    "        ['ReLU', (None, 8, 8, 16), 0],\n",
    "        ['MaxPooling2D', (None, 2, 2, 16), 0, (4, 4), (4, 4), 'same'],\n",
    "        ['Flatten', (None, 64), 0],\n",
    "        ['Dense', (None, 6), 390, 'softmax']]\n",
    "    \n",
    "comparator(summary(conv_model), output)"
   ]
  },
  {
   "cell_type": "markdown",
   "metadata": {},
   "source": [
    "Both the Sequential and Functional APIs return a TF Keras model object. The only difference is how inputs are handled inside the object model! "
   ]
  },
  {
   "cell_type": "markdown",
   "metadata": {},
   "source": [
    "<a name='4-4'></a>\n",
    "### 4.4 - Train the Model"
   ]
  },
  {
   "cell_type": "code",
   "execution_count": 18,
   "metadata": {},
   "outputs": [
    {
     "name": "stdout",
     "output_type": "stream",
     "text": [
      "Epoch 1/100\n",
      "17/17 [==============================] - 2s 106ms/step - loss: 1.8013 - accuracy: 0.1722 - val_loss: 1.7925 - val_accuracy: 0.1583\n",
      "Epoch 2/100\n",
      "17/17 [==============================] - 2s 105ms/step - loss: 1.7896 - accuracy: 0.2037 - val_loss: 1.7869 - val_accuracy: 0.2167\n",
      "Epoch 3/100\n",
      "17/17 [==============================] - 2s 100ms/step - loss: 1.7825 - accuracy: 0.2120 - val_loss: 1.7812 - val_accuracy: 0.1667\n",
      "Epoch 4/100\n",
      "17/17 [==============================] - 2s 101ms/step - loss: 1.7766 - accuracy: 0.2463 - val_loss: 1.7743 - val_accuracy: 0.2833\n",
      "Epoch 5/100\n",
      "17/17 [==============================] - 2s 106ms/step - loss: 1.7675 - accuracy: 0.2759 - val_loss: 1.7654 - val_accuracy: 0.2833\n",
      "Epoch 6/100\n",
      "17/17 [==============================] - 2s 101ms/step - loss: 1.7582 - accuracy: 0.3139 - val_loss: 1.7563 - val_accuracy: 0.3167\n",
      "Epoch 7/100\n",
      "17/17 [==============================] - 2s 100ms/step - loss: 1.7479 - accuracy: 0.3704 - val_loss: 1.7458 - val_accuracy: 0.3833\n",
      "Epoch 8/100\n",
      "17/17 [==============================] - 2s 106ms/step - loss: 1.7354 - accuracy: 0.4009 - val_loss: 1.7335 - val_accuracy: 0.3917\n",
      "Epoch 9/100\n",
      "17/17 [==============================] - 2s 106ms/step - loss: 1.7199 - accuracy: 0.4231 - val_loss: 1.7182 - val_accuracy: 0.4000\n",
      "Epoch 10/100\n",
      "17/17 [==============================] - 2s 100ms/step - loss: 1.7016 - accuracy: 0.4528 - val_loss: 1.6988 - val_accuracy: 0.4417\n",
      "Epoch 11/100\n",
      "17/17 [==============================] - 2s 100ms/step - loss: 1.6792 - accuracy: 0.4667 - val_loss: 1.6756 - val_accuracy: 0.4500\n",
      "Epoch 12/100\n",
      "17/17 [==============================] - 2s 106ms/step - loss: 1.6521 - accuracy: 0.4907 - val_loss: 1.6483 - val_accuracy: 0.4500\n",
      "Epoch 13/100\n",
      "17/17 [==============================] - 2s 106ms/step - loss: 1.6199 - accuracy: 0.5083 - val_loss: 1.6166 - val_accuracy: 0.4750\n",
      "Epoch 14/100\n",
      "17/17 [==============================] - 2s 100ms/step - loss: 1.5827 - accuracy: 0.5120 - val_loss: 1.5791 - val_accuracy: 0.4583\n",
      "Epoch 15/100\n",
      "17/17 [==============================] - 2s 101ms/step - loss: 1.5422 - accuracy: 0.5204 - val_loss: 1.5358 - val_accuracy: 0.4750\n",
      "Epoch 16/100\n",
      "17/17 [==============================] - 2s 106ms/step - loss: 1.4988 - accuracy: 0.5315 - val_loss: 1.4940 - val_accuracy: 0.4833\n",
      "Epoch 17/100\n",
      "17/17 [==============================] - 2s 101ms/step - loss: 1.4485 - accuracy: 0.5296 - val_loss: 1.4380 - val_accuracy: 0.5167\n",
      "Epoch 18/100\n",
      "17/17 [==============================] - 2s 106ms/step - loss: 1.4009 - accuracy: 0.5324 - val_loss: 1.3874 - val_accuracy: 0.5250\n",
      "Epoch 19/100\n",
      "17/17 [==============================] - 2s 100ms/step - loss: 1.3586 - accuracy: 0.5361 - val_loss: 1.3421 - val_accuracy: 0.5083\n",
      "Epoch 20/100\n",
      "17/17 [==============================] - 2s 106ms/step - loss: 1.3147 - accuracy: 0.5333 - val_loss: 1.3050 - val_accuracy: 0.4917\n",
      "Epoch 21/100\n",
      "17/17 [==============================] - 2s 105ms/step - loss: 1.2713 - accuracy: 0.5500 - val_loss: 1.2666 - val_accuracy: 0.5083\n",
      "Epoch 22/100\n",
      "17/17 [==============================] - 2s 100ms/step - loss: 1.2316 - accuracy: 0.5648 - val_loss: 1.2346 - val_accuracy: 0.5000\n",
      "Epoch 23/100\n",
      "17/17 [==============================] - 2s 100ms/step - loss: 1.1930 - accuracy: 0.5787 - val_loss: 1.2032 - val_accuracy: 0.5333\n",
      "Epoch 24/100\n",
      "17/17 [==============================] - 2s 100ms/step - loss: 1.1596 - accuracy: 0.5917 - val_loss: 1.1725 - val_accuracy: 0.5417\n",
      "Epoch 25/100\n",
      "17/17 [==============================] - 2s 101ms/step - loss: 1.1297 - accuracy: 0.5991 - val_loss: 1.1457 - val_accuracy: 0.5417\n",
      "Epoch 26/100\n",
      "17/17 [==============================] - 2s 101ms/step - loss: 1.1020 - accuracy: 0.6157 - val_loss: 1.1241 - val_accuracy: 0.5417\n",
      "Epoch 27/100\n",
      "17/17 [==============================] - 2s 100ms/step - loss: 1.0757 - accuracy: 0.6231 - val_loss: 1.0994 - val_accuracy: 0.5750\n",
      "Epoch 28/100\n",
      "17/17 [==============================] - 2s 102ms/step - loss: 1.0513 - accuracy: 0.6333 - val_loss: 1.0757 - val_accuracy: 0.5750\n",
      "Epoch 29/100\n",
      "17/17 [==============================] - 2s 106ms/step - loss: 1.0285 - accuracy: 0.6444 - val_loss: 1.0553 - val_accuracy: 0.5833\n",
      "Epoch 30/100\n",
      "17/17 [==============================] - 2s 101ms/step - loss: 1.0082 - accuracy: 0.6546 - val_loss: 1.0375 - val_accuracy: 0.6000\n",
      "Epoch 31/100\n",
      "17/17 [==============================] - 2s 106ms/step - loss: 0.9888 - accuracy: 0.6648 - val_loss: 1.0202 - val_accuracy: 0.6000\n",
      "Epoch 32/100\n",
      "17/17 [==============================] - 2s 105ms/step - loss: 0.9703 - accuracy: 0.6676 - val_loss: 1.0043 - val_accuracy: 0.6000\n",
      "Epoch 33/100\n",
      "17/17 [==============================] - 2s 106ms/step - loss: 0.9521 - accuracy: 0.6741 - val_loss: 0.9886 - val_accuracy: 0.6083\n",
      "Epoch 34/100\n",
      "17/17 [==============================] - 2s 105ms/step - loss: 0.9363 - accuracy: 0.6833 - val_loss: 0.9742 - val_accuracy: 0.6167\n",
      "Epoch 35/100\n",
      "17/17 [==============================] - 2s 106ms/step - loss: 0.9191 - accuracy: 0.6898 - val_loss: 0.9605 - val_accuracy: 0.6333\n",
      "Epoch 36/100\n",
      "17/17 [==============================] - 2s 106ms/step - loss: 0.9033 - accuracy: 0.6981 - val_loss: 0.9480 - val_accuracy: 0.6333\n",
      "Epoch 37/100\n",
      "17/17 [==============================] - 2s 100ms/step - loss: 0.8890 - accuracy: 0.7028 - val_loss: 0.9354 - val_accuracy: 0.6417\n",
      "Epoch 38/100\n",
      "17/17 [==============================] - 2s 100ms/step - loss: 0.8754 - accuracy: 0.7037 - val_loss: 0.9241 - val_accuracy: 0.6417\n",
      "Epoch 39/100\n",
      "17/17 [==============================] - 2s 101ms/step - loss: 0.8614 - accuracy: 0.7083 - val_loss: 0.9122 - val_accuracy: 0.6417\n",
      "Epoch 40/100\n",
      "17/17 [==============================] - 2s 101ms/step - loss: 0.8476 - accuracy: 0.7157 - val_loss: 0.9006 - val_accuracy: 0.6500\n",
      "Epoch 41/100\n",
      "17/17 [==============================] - 2s 102ms/step - loss: 0.8341 - accuracy: 0.7194 - val_loss: 0.8899 - val_accuracy: 0.6667\n",
      "Epoch 42/100\n",
      "17/17 [==============================] - 2s 100ms/step - loss: 0.8222 - accuracy: 0.7250 - val_loss: 0.8792 - val_accuracy: 0.6667\n",
      "Epoch 43/100\n",
      "17/17 [==============================] - 2s 100ms/step - loss: 0.8103 - accuracy: 0.7278 - val_loss: 0.8689 - val_accuracy: 0.6667\n",
      "Epoch 44/100\n",
      "17/17 [==============================] - 2s 101ms/step - loss: 0.7989 - accuracy: 0.7315 - val_loss: 0.8591 - val_accuracy: 0.6750\n",
      "Epoch 45/100\n",
      "17/17 [==============================] - 2s 101ms/step - loss: 0.7880 - accuracy: 0.7370 - val_loss: 0.8501 - val_accuracy: 0.6833\n",
      "Epoch 46/100\n",
      "17/17 [==============================] - 2s 101ms/step - loss: 0.7775 - accuracy: 0.7417 - val_loss: 0.8410 - val_accuracy: 0.6917\n",
      "Epoch 47/100\n",
      "17/17 [==============================] - 2s 101ms/step - loss: 0.7674 - accuracy: 0.7491 - val_loss: 0.8326 - val_accuracy: 0.6917\n",
      "Epoch 48/100\n",
      "17/17 [==============================] - 2s 100ms/step - loss: 0.7573 - accuracy: 0.7528 - val_loss: 0.8245 - val_accuracy: 0.6917\n",
      "Epoch 49/100\n",
      "17/17 [==============================] - 2s 100ms/step - loss: 0.7474 - accuracy: 0.7565 - val_loss: 0.8171 - val_accuracy: 0.6917\n",
      "Epoch 50/100\n",
      "17/17 [==============================] - 2s 101ms/step - loss: 0.7379 - accuracy: 0.7620 - val_loss: 0.8090 - val_accuracy: 0.6917\n",
      "Epoch 51/100\n",
      "17/17 [==============================] - 2s 106ms/step - loss: 0.7285 - accuracy: 0.7630 - val_loss: 0.8007 - val_accuracy: 0.7000\n",
      "Epoch 52/100\n",
      "17/17 [==============================] - 2s 106ms/step - loss: 0.7192 - accuracy: 0.7667 - val_loss: 0.7929 - val_accuracy: 0.7000\n",
      "Epoch 53/100\n",
      "17/17 [==============================] - 2s 105ms/step - loss: 0.7099 - accuracy: 0.7685 - val_loss: 0.7856 - val_accuracy: 0.6917\n",
      "Epoch 54/100\n",
      "17/17 [==============================] - 2s 101ms/step - loss: 0.7010 - accuracy: 0.7750 - val_loss: 0.7782 - val_accuracy: 0.6917\n",
      "Epoch 55/100\n",
      "17/17 [==============================] - 2s 101ms/step - loss: 0.6920 - accuracy: 0.7769 - val_loss: 0.7705 - val_accuracy: 0.6917\n",
      "Epoch 56/100\n",
      "17/17 [==============================] - 2s 100ms/step - loss: 0.6834 - accuracy: 0.7806 - val_loss: 0.7638 - val_accuracy: 0.6917\n",
      "Epoch 57/100\n",
      "17/17 [==============================] - 2s 106ms/step - loss: 0.6747 - accuracy: 0.7815 - val_loss: 0.7568 - val_accuracy: 0.7000\n",
      "Epoch 58/100\n",
      "17/17 [==============================] - 2s 101ms/step - loss: 0.6664 - accuracy: 0.7852 - val_loss: 0.7501 - val_accuracy: 0.7000\n",
      "Epoch 59/100\n",
      "17/17 [==============================] - 2s 106ms/step - loss: 0.6582 - accuracy: 0.7870 - val_loss: 0.7439 - val_accuracy: 0.7000\n",
      "Epoch 60/100\n",
      "17/17 [==============================] - 2s 101ms/step - loss: 0.6501 - accuracy: 0.7917 - val_loss: 0.7379 - val_accuracy: 0.7167\n",
      "Epoch 61/100\n",
      "17/17 [==============================] - 2s 102ms/step - loss: 0.6421 - accuracy: 0.7926 - val_loss: 0.7318 - val_accuracy: 0.7167\n",
      "Epoch 62/100\n",
      "17/17 [==============================] - 2s 100ms/step - loss: 0.6345 - accuracy: 0.7963 - val_loss: 0.7256 - val_accuracy: 0.7167\n",
      "Epoch 63/100\n",
      "17/17 [==============================] - 2s 106ms/step - loss: 0.6269 - accuracy: 0.7991 - val_loss: 0.7190 - val_accuracy: 0.7167\n",
      "Epoch 64/100\n",
      "17/17 [==============================] - 2s 100ms/step - loss: 0.6193 - accuracy: 0.8000 - val_loss: 0.7129 - val_accuracy: 0.7167\n",
      "Epoch 65/100\n",
      "17/17 [==============================] - 2s 100ms/step - loss: 0.6119 - accuracy: 0.8000 - val_loss: 0.7068 - val_accuracy: 0.7167\n",
      "Epoch 66/100\n",
      "17/17 [==============================] - 2s 106ms/step - loss: 0.6046 - accuracy: 0.7991 - val_loss: 0.7010 - val_accuracy: 0.7500\n",
      "Epoch 67/100\n",
      "17/17 [==============================] - 2s 100ms/step - loss: 0.5974 - accuracy: 0.8000 - val_loss: 0.6955 - val_accuracy: 0.7500\n",
      "Epoch 68/100\n",
      "17/17 [==============================] - 2s 100ms/step - loss: 0.5904 - accuracy: 0.8019 - val_loss: 0.6902 - val_accuracy: 0.7500\n",
      "Epoch 69/100\n",
      "17/17 [==============================] - 2s 101ms/step - loss: 0.5837 - accuracy: 0.8093 - val_loss: 0.6851 - val_accuracy: 0.7417\n",
      "Epoch 70/100\n",
      "17/17 [==============================] - 2s 101ms/step - loss: 0.5769 - accuracy: 0.8102 - val_loss: 0.6803 - val_accuracy: 0.7417\n",
      "Epoch 71/100\n",
      "17/17 [==============================] - 2s 100ms/step - loss: 0.5702 - accuracy: 0.8102 - val_loss: 0.6752 - val_accuracy: 0.7417\n",
      "Epoch 72/100\n",
      "17/17 [==============================] - 2s 100ms/step - loss: 0.5636 - accuracy: 0.8148 - val_loss: 0.6708 - val_accuracy: 0.7417\n",
      "Epoch 73/100\n",
      "17/17 [==============================] - 2s 100ms/step - loss: 0.5574 - accuracy: 0.8148 - val_loss: 0.6660 - val_accuracy: 0.7583\n",
      "Epoch 74/100\n",
      "17/17 [==============================] - 2s 101ms/step - loss: 0.5512 - accuracy: 0.8176 - val_loss: 0.6614 - val_accuracy: 0.7750\n",
      "Epoch 75/100\n",
      "17/17 [==============================] - 2s 106ms/step - loss: 0.5449 - accuracy: 0.8231 - val_loss: 0.6568 - val_accuracy: 0.7833\n",
      "Epoch 76/100\n",
      "17/17 [==============================] - 2s 100ms/step - loss: 0.5387 - accuracy: 0.8241 - val_loss: 0.6528 - val_accuracy: 0.7833\n",
      "Epoch 77/100\n",
      "17/17 [==============================] - 2s 101ms/step - loss: 0.5330 - accuracy: 0.8241 - val_loss: 0.6484 - val_accuracy: 0.7833\n",
      "Epoch 78/100\n",
      "17/17 [==============================] - 2s 106ms/step - loss: 0.5275 - accuracy: 0.8278 - val_loss: 0.6437 - val_accuracy: 0.7833\n",
      "Epoch 79/100\n",
      "17/17 [==============================] - 2s 106ms/step - loss: 0.5221 - accuracy: 0.8287 - val_loss: 0.6397 - val_accuracy: 0.7833\n",
      "Epoch 80/100\n",
      "17/17 [==============================] - 2s 105ms/step - loss: 0.5168 - accuracy: 0.8287 - val_loss: 0.6354 - val_accuracy: 0.7833\n",
      "Epoch 81/100\n",
      "17/17 [==============================] - 2s 107ms/step - loss: 0.5116 - accuracy: 0.8315 - val_loss: 0.6313 - val_accuracy: 0.7917\n",
      "Epoch 82/100\n",
      "17/17 [==============================] - 2s 100ms/step - loss: 0.5064 - accuracy: 0.8343 - val_loss: 0.6266 - val_accuracy: 0.7917\n",
      "Epoch 83/100\n",
      "17/17 [==============================] - 2s 105ms/step - loss: 0.5013 - accuracy: 0.8380 - val_loss: 0.6227 - val_accuracy: 0.7917\n",
      "Epoch 84/100\n",
      "17/17 [==============================] - 2s 101ms/step - loss: 0.4960 - accuracy: 0.8389 - val_loss: 0.6179 - val_accuracy: 0.7917\n",
      "Epoch 85/100\n",
      "17/17 [==============================] - 2s 100ms/step - loss: 0.4909 - accuracy: 0.8398 - val_loss: 0.6140 - val_accuracy: 0.7917\n",
      "Epoch 86/100\n",
      "17/17 [==============================] - 2s 101ms/step - loss: 0.4855 - accuracy: 0.8417 - val_loss: 0.6106 - val_accuracy: 0.7833\n",
      "Epoch 87/100\n",
      "17/17 [==============================] - 2s 106ms/step - loss: 0.4809 - accuracy: 0.8426 - val_loss: 0.6066 - val_accuracy: 0.7833\n",
      "Epoch 88/100\n",
      "17/17 [==============================] - 2s 102ms/step - loss: 0.4760 - accuracy: 0.8444 - val_loss: 0.6034 - val_accuracy: 0.7833\n",
      "Epoch 89/100\n",
      "17/17 [==============================] - 2s 101ms/step - loss: 0.4713 - accuracy: 0.8444 - val_loss: 0.5991 - val_accuracy: 0.7917\n",
      "Epoch 90/100\n",
      "17/17 [==============================] - 2s 101ms/step - loss: 0.4664 - accuracy: 0.8444 - val_loss: 0.5956 - val_accuracy: 0.7917\n",
      "Epoch 91/100\n",
      "17/17 [==============================] - 2s 100ms/step - loss: 0.4618 - accuracy: 0.8472 - val_loss: 0.5922 - val_accuracy: 0.7917\n",
      "Epoch 92/100\n",
      "17/17 [==============================] - 2s 100ms/step - loss: 0.4573 - accuracy: 0.8491 - val_loss: 0.5884 - val_accuracy: 0.7833\n",
      "Epoch 93/100\n",
      "17/17 [==============================] - 2s 106ms/step - loss: 0.4529 - accuracy: 0.8509 - val_loss: 0.5845 - val_accuracy: 0.7833\n",
      "Epoch 94/100\n",
      "17/17 [==============================] - 2s 106ms/step - loss: 0.4484 - accuracy: 0.8528 - val_loss: 0.5816 - val_accuracy: 0.7833\n",
      "Epoch 95/100\n",
      "17/17 [==============================] - 2s 100ms/step - loss: 0.4439 - accuracy: 0.8528 - val_loss: 0.5783 - val_accuracy: 0.7833\n",
      "Epoch 96/100\n",
      "17/17 [==============================] - 2s 105ms/step - loss: 0.4398 - accuracy: 0.8528 - val_loss: 0.5741 - val_accuracy: 0.7833\n",
      "Epoch 97/100\n",
      "17/17 [==============================] - 2s 106ms/step - loss: 0.4353 - accuracy: 0.8556 - val_loss: 0.5709 - val_accuracy: 0.7833\n",
      "Epoch 98/100\n",
      "17/17 [==============================] - 2s 106ms/step - loss: 0.4312 - accuracy: 0.8574 - val_loss: 0.5675 - val_accuracy: 0.7833\n",
      "Epoch 99/100\n",
      "17/17 [==============================] - 2s 101ms/step - loss: 0.4270 - accuracy: 0.8583 - val_loss: 0.5640 - val_accuracy: 0.7833\n",
      "Epoch 100/100\n",
      "17/17 [==============================] - 2s 101ms/step - loss: 0.4228 - accuracy: 0.8648 - val_loss: 0.5599 - val_accuracy: 0.7833\n"
     ]
    }
   ],
   "source": [
    "train_dataset = tf.data.Dataset.from_tensor_slices((X_train, Y_train)).batch(64)\n",
    "test_dataset = tf.data.Dataset.from_tensor_slices((X_test, Y_test)).batch(64)\n",
    "history = conv_model.fit(train_dataset, epochs=100, validation_data=test_dataset)"
   ]
  },
  {
   "cell_type": "markdown",
   "metadata": {},
   "source": [
    "<a name='5'></a>\n",
    "## 5 - History Object \n",
    "\n",
    "The history object is an output of the `.fit()` operation, and provides a record of all the loss and metric values in memory. It's stored as a dictionary that you can retrieve at `history.history`: "
   ]
  },
  {
   "cell_type": "code",
   "execution_count": 19,
   "metadata": {},
   "outputs": [
    {
     "data": {
      "text/plain": [
       "{'loss': [1.8013378381729126,\n",
       "  1.7895801067352295,\n",
       "  1.7825026512145996,\n",
       "  1.776647925376892,\n",
       "  1.767530083656311,\n",
       "  1.758175015449524,\n",
       "  1.7478890419006348,\n",
       "  1.7353564500808716,\n",
       "  1.719904899597168,\n",
       "  1.701582431793213,\n",
       "  1.6791515350341797,\n",
       "  1.652051329612732,\n",
       "  1.6198642253875732,\n",
       "  1.5826506614685059,\n",
       "  1.542153000831604,\n",
       "  1.4987766742706299,\n",
       "  1.4484721422195435,\n",
       "  1.4009144306182861,\n",
       "  1.358555555343628,\n",
       "  1.314747929573059,\n",
       "  1.2713035345077515,\n",
       "  1.2315672636032104,\n",
       "  1.1929666996002197,\n",
       "  1.1596364974975586,\n",
       "  1.129734754562378,\n",
       "  1.1019909381866455,\n",
       "  1.0756754875183105,\n",
       "  1.0513094663619995,\n",
       "  1.0285253524780273,\n",
       "  1.0082257986068726,\n",
       "  0.988776445388794,\n",
       "  0.970339298248291,\n",
       "  0.952069878578186,\n",
       "  0.9362505078315735,\n",
       "  0.9190869331359863,\n",
       "  0.9032785296440125,\n",
       "  0.8889901041984558,\n",
       "  0.8754178881645203,\n",
       "  0.8613844513893127,\n",
       "  0.8475637435913086,\n",
       "  0.8341495990753174,\n",
       "  0.8221567869186401,\n",
       "  0.8103107213973999,\n",
       "  0.7989436984062195,\n",
       "  0.7880029678344727,\n",
       "  0.7775229215621948,\n",
       "  0.7673740983009338,\n",
       "  0.757311999797821,\n",
       "  0.7474159002304077,\n",
       "  0.7379277944564819,\n",
       "  0.7285467386245728,\n",
       "  0.7192107439041138,\n",
       "  0.7099149823188782,\n",
       "  0.7009507417678833,\n",
       "  0.6919982433319092,\n",
       "  0.6833879947662354,\n",
       "  0.674726128578186,\n",
       "  0.6663911938667297,\n",
       "  0.6582369208335876,\n",
       "  0.6500958204269409,\n",
       "  0.6421152949333191,\n",
       "  0.6345158815383911,\n",
       "  0.6268631219863892,\n",
       "  0.619323194026947,\n",
       "  0.6119348406791687,\n",
       "  0.6046488881111145,\n",
       "  0.5974199771881104,\n",
       "  0.5904004573822021,\n",
       "  0.5836923122406006,\n",
       "  0.5769230723381042,\n",
       "  0.570243775844574,\n",
       "  0.5635857582092285,\n",
       "  0.5573874115943909,\n",
       "  0.5512416958808899,\n",
       "  0.5448994636535645,\n",
       "  0.5387413501739502,\n",
       "  0.5330268144607544,\n",
       "  0.5275214314460754,\n",
       "  0.5221407413482666,\n",
       "  0.5168150663375854,\n",
       "  0.5116127133369446,\n",
       "  0.5064480900764465,\n",
       "  0.5012786388397217,\n",
       "  0.4960302412509918,\n",
       "  0.4909057021141052,\n",
       "  0.48553863167762756,\n",
       "  0.48092788457870483,\n",
       "  0.47603487968444824,\n",
       "  0.4712953269481659,\n",
       "  0.46640104055404663,\n",
       "  0.4618026316165924,\n",
       "  0.4572546184062958,\n",
       "  0.45294010639190674,\n",
       "  0.4484095573425293,\n",
       "  0.4439147710800171,\n",
       "  0.43980175256729126,\n",
       "  0.4353399872779846,\n",
       "  0.43119704723358154,\n",
       "  0.42696505784988403,\n",
       "  0.4227522611618042],\n",
       " 'accuracy': [0.17222222685813904,\n",
       "  0.20370370149612427,\n",
       "  0.21203704178333282,\n",
       "  0.24629630148410797,\n",
       "  0.2759259343147278,\n",
       "  0.31388887763023376,\n",
       "  0.37037035822868347,\n",
       "  0.4009259343147278,\n",
       "  0.42314815521240234,\n",
       "  0.45277777314186096,\n",
       "  0.46666666865348816,\n",
       "  0.49074074625968933,\n",
       "  0.5083333253860474,\n",
       "  0.5120370388031006,\n",
       "  0.520370364189148,\n",
       "  0.5314815044403076,\n",
       "  0.529629647731781,\n",
       "  0.5324074029922485,\n",
       "  0.5361111164093018,\n",
       "  0.5333333611488342,\n",
       "  0.550000011920929,\n",
       "  0.5648148059844971,\n",
       "  0.5787037014961243,\n",
       "  0.5916666388511658,\n",
       "  0.5990740656852722,\n",
       "  0.6157407164573669,\n",
       "  0.6231481432914734,\n",
       "  0.6333333253860474,\n",
       "  0.644444465637207,\n",
       "  0.654629647731781,\n",
       "  0.664814829826355,\n",
       "  0.6675925850868225,\n",
       "  0.6740740537643433,\n",
       "  0.6833333373069763,\n",
       "  0.6898148059844971,\n",
       "  0.6981481313705444,\n",
       "  0.7027778029441833,\n",
       "  0.7037037014961243,\n",
       "  0.7083333134651184,\n",
       "  0.7157407402992249,\n",
       "  0.7194444537162781,\n",
       "  0.7250000238418579,\n",
       "  0.7277777791023254,\n",
       "  0.7314814925193787,\n",
       "  0.7370370626449585,\n",
       "  0.7416666746139526,\n",
       "  0.7490741014480591,\n",
       "  0.7527777552604675,\n",
       "  0.7564814686775208,\n",
       "  0.7620370388031006,\n",
       "  0.7629629373550415,\n",
       "  0.7666666507720947,\n",
       "  0.7685185074806213,\n",
       "  0.7749999761581421,\n",
       "  0.7768518328666687,\n",
       "  0.7805555462837219,\n",
       "  0.7814815044403076,\n",
       "  0.7851851582527161,\n",
       "  0.7870370149612427,\n",
       "  0.7916666865348816,\n",
       "  0.7925925850868225,\n",
       "  0.7962962985038757,\n",
       "  0.7990740537643433,\n",
       "  0.800000011920929,\n",
       "  0.800000011920929,\n",
       "  0.7990740537643433,\n",
       "  0.800000011920929,\n",
       "  0.8018518686294556,\n",
       "  0.8092592358589172,\n",
       "  0.8101851940155029,\n",
       "  0.8101851940155029,\n",
       "  0.8148148059844971,\n",
       "  0.8148148059844971,\n",
       "  0.8175926208496094,\n",
       "  0.8231481313705444,\n",
       "  0.8240740895271301,\n",
       "  0.8240740895271301,\n",
       "  0.8277778029441833,\n",
       "  0.8287037014961243,\n",
       "  0.8287037014961243,\n",
       "  0.8314814567565918,\n",
       "  0.8342592716217041,\n",
       "  0.8379629850387573,\n",
       "  0.8388888835906982,\n",
       "  0.8398148417472839,\n",
       "  0.8416666388511658,\n",
       "  0.8425925970077515,\n",
       "  0.8444444537162781,\n",
       "  0.8444444537162781,\n",
       "  0.8444444537162781,\n",
       "  0.8472222089767456,\n",
       "  0.8490740656852722,\n",
       "  0.8509259223937988,\n",
       "  0.8527777791023254,\n",
       "  0.8527777791023254,\n",
       "  0.8527777791023254,\n",
       "  0.855555534362793,\n",
       "  0.8574073910713196,\n",
       "  0.8583333492279053,\n",
       "  0.864814817905426],\n",
       " 'val_loss': [1.7924526929855347,\n",
       "  1.7869031429290771,\n",
       "  1.7811968326568604,\n",
       "  1.7742804288864136,\n",
       "  1.7653752565383911,\n",
       "  1.7562787532806396,\n",
       "  1.7458022832870483,\n",
       "  1.7334736585617065,\n",
       "  1.7182172536849976,\n",
       "  1.6987910270690918,\n",
       "  1.675580620765686,\n",
       "  1.6482878923416138,\n",
       "  1.6166218519210815,\n",
       "  1.5790828466415405,\n",
       "  1.5357704162597656,\n",
       "  1.4939521551132202,\n",
       "  1.437951922416687,\n",
       "  1.387352466583252,\n",
       "  1.3420623540878296,\n",
       "  1.3050097227096558,\n",
       "  1.2666195631027222,\n",
       "  1.234619140625,\n",
       "  1.2032368183135986,\n",
       "  1.1725388765335083,\n",
       "  1.1456798315048218,\n",
       "  1.1241462230682373,\n",
       "  1.0993775129318237,\n",
       "  1.0756782293319702,\n",
       "  1.055299997329712,\n",
       "  1.0375359058380127,\n",
       "  1.0202414989471436,\n",
       "  1.004303216934204,\n",
       "  0.9885533452033997,\n",
       "  0.97416090965271,\n",
       "  0.9604772925376892,\n",
       "  0.948043942451477,\n",
       "  0.9354100823402405,\n",
       "  0.9241002202033997,\n",
       "  0.9121540188789368,\n",
       "  0.9005725979804993,\n",
       "  0.8898975253105164,\n",
       "  0.8791711330413818,\n",
       "  0.8689331412315369,\n",
       "  0.859149694442749,\n",
       "  0.8501319885253906,\n",
       "  0.8410112857818604,\n",
       "  0.8325949907302856,\n",
       "  0.824528694152832,\n",
       "  0.8170669674873352,\n",
       "  0.8089779615402222,\n",
       "  0.8007254004478455,\n",
       "  0.7928592562675476,\n",
       "  0.7856066823005676,\n",
       "  0.7781909704208374,\n",
       "  0.7704678773880005,\n",
       "  0.763809323310852,\n",
       "  0.7567905187606812,\n",
       "  0.7500647306442261,\n",
       "  0.7438676357269287,\n",
       "  0.737881600856781,\n",
       "  0.7317702174186707,\n",
       "  0.7256104946136475,\n",
       "  0.719002902507782,\n",
       "  0.7129079103469849,\n",
       "  0.7068337798118591,\n",
       "  0.7009994387626648,\n",
       "  0.6955187916755676,\n",
       "  0.6902173161506653,\n",
       "  0.6850875616073608,\n",
       "  0.6802962422370911,\n",
       "  0.6751879453659058,\n",
       "  0.6708183288574219,\n",
       "  0.6659822463989258,\n",
       "  0.6613521575927734,\n",
       "  0.6568299531936646,\n",
       "  0.6527705788612366,\n",
       "  0.6483603119850159,\n",
       "  0.6437227129936218,\n",
       "  0.63966304063797,\n",
       "  0.6354178190231323,\n",
       "  0.6313260197639465,\n",
       "  0.6266155242919922,\n",
       "  0.622673749923706,\n",
       "  0.6178817749023438,\n",
       "  0.613968551158905,\n",
       "  0.6106210947036743,\n",
       "  0.6065723896026611,\n",
       "  0.603364109992981,\n",
       "  0.5990965962409973,\n",
       "  0.5955519080162048,\n",
       "  0.592178225517273,\n",
       "  0.5884133577346802,\n",
       "  0.5845081210136414,\n",
       "  0.5815944075584412,\n",
       "  0.5782526731491089,\n",
       "  0.574133574962616,\n",
       "  0.5709478259086609,\n",
       "  0.5675140023231506,\n",
       "  0.5639981627464294,\n",
       "  0.5599008202552795],\n",
       " 'val_accuracy': [0.15833333134651184,\n",
       "  0.21666666865348816,\n",
       "  0.1666666716337204,\n",
       "  0.28333333134651184,\n",
       "  0.28333333134651184,\n",
       "  0.3166666626930237,\n",
       "  0.38333332538604736,\n",
       "  0.3916666805744171,\n",
       "  0.4000000059604645,\n",
       "  0.4416666626930237,\n",
       "  0.44999998807907104,\n",
       "  0.44999998807907104,\n",
       "  0.4749999940395355,\n",
       "  0.4583333432674408,\n",
       "  0.4749999940395355,\n",
       "  0.4833333194255829,\n",
       "  0.5166666507720947,\n",
       "  0.5249999761581421,\n",
       "  0.5083333253860474,\n",
       "  0.49166667461395264,\n",
       "  0.5083333253860474,\n",
       "  0.5,\n",
       "  0.5333333611488342,\n",
       "  0.5416666865348816,\n",
       "  0.5416666865348816,\n",
       "  0.5416666865348816,\n",
       "  0.574999988079071,\n",
       "  0.574999988079071,\n",
       "  0.5833333134651184,\n",
       "  0.6000000238418579,\n",
       "  0.6000000238418579,\n",
       "  0.6000000238418579,\n",
       "  0.6083333492279053,\n",
       "  0.6166666746139526,\n",
       "  0.6333333253860474,\n",
       "  0.6333333253860474,\n",
       "  0.6416666507720947,\n",
       "  0.6416666507720947,\n",
       "  0.6416666507720947,\n",
       "  0.6499999761581421,\n",
       "  0.6666666865348816,\n",
       "  0.6666666865348816,\n",
       "  0.6666666865348816,\n",
       "  0.675000011920929,\n",
       "  0.6833333373069763,\n",
       "  0.6916666626930237,\n",
       "  0.6916666626930237,\n",
       "  0.6916666626930237,\n",
       "  0.6916666626930237,\n",
       "  0.6916666626930237,\n",
       "  0.699999988079071,\n",
       "  0.699999988079071,\n",
       "  0.6916666626930237,\n",
       "  0.6916666626930237,\n",
       "  0.6916666626930237,\n",
       "  0.6916666626930237,\n",
       "  0.699999988079071,\n",
       "  0.699999988079071,\n",
       "  0.699999988079071,\n",
       "  0.7166666388511658,\n",
       "  0.7166666388511658,\n",
       "  0.7166666388511658,\n",
       "  0.7166666388511658,\n",
       "  0.7166666388511658,\n",
       "  0.7166666388511658,\n",
       "  0.75,\n",
       "  0.75,\n",
       "  0.75,\n",
       "  0.7416666746139526,\n",
       "  0.7416666746139526,\n",
       "  0.7416666746139526,\n",
       "  0.7416666746139526,\n",
       "  0.7583333253860474,\n",
       "  0.7749999761581421,\n",
       "  0.7833333611488342,\n",
       "  0.7833333611488342,\n",
       "  0.7833333611488342,\n",
       "  0.7833333611488342,\n",
       "  0.7833333611488342,\n",
       "  0.7833333611488342,\n",
       "  0.7916666865348816,\n",
       "  0.7916666865348816,\n",
       "  0.7916666865348816,\n",
       "  0.7916666865348816,\n",
       "  0.7916666865348816,\n",
       "  0.7833333611488342,\n",
       "  0.7833333611488342,\n",
       "  0.7833333611488342,\n",
       "  0.7916666865348816,\n",
       "  0.7916666865348816,\n",
       "  0.7916666865348816,\n",
       "  0.7833333611488342,\n",
       "  0.7833333611488342,\n",
       "  0.7833333611488342,\n",
       "  0.7833333611488342,\n",
       "  0.7833333611488342,\n",
       "  0.7833333611488342,\n",
       "  0.7833333611488342,\n",
       "  0.7833333611488342,\n",
       "  0.7833333611488342]}"
      ]
     },
     "execution_count": 19,
     "metadata": {},
     "output_type": "execute_result"
    }
   ],
   "source": [
    "history.history"
   ]
  },
  {
   "cell_type": "markdown",
   "metadata": {},
   "source": [
    "Now visualize the loss over time using `history.history`: "
   ]
  },
  {
   "cell_type": "code",
   "execution_count": 20,
   "metadata": {},
   "outputs": [
    {
     "data": {
      "text/plain": [
       "[Text(0, 0.5, 'Accuracy'), Text(0.5, 0, 'Epoch')]"
      ]
     },
     "execution_count": 20,
     "metadata": {},
     "output_type": "execute_result"
    },
    {
     "data": {
      "image/png": "[encoded data removed]",
      "text/plain": [
       "<Figure size 864x576 with 1 Axes>"
      ]
     },
     "metadata": {
      "needs_background": "light"
     },
     "output_type": "display_data"
    },
    {
     "data": {
      "image/png": "[encoded data removed]",
      "text/plain": [
       "<Figure size 864x576 with 1 Axes>"
      ]
     },
     "metadata": {
      "needs_background": "light"
     },
     "output_type": "display_data"
    }
   ],
   "source": [
    "# The history.history[\"loss\"] entry is a dictionary with as many values as epochs that the\n",
    "# model was trained on. \n",
    "df_loss_acc = pd.DataFrame(history.history)\n",
    "df_loss= df_loss_acc[['loss','val_loss']]\n",
    "df_loss.rename(columns={'loss':'train','val_loss':'validation'},inplace=True)\n",
    "df_acc= df_loss_acc[['accuracy','val_accuracy']]\n",
    "df_acc.rename(columns={'accuracy':'train','val_accuracy':'validation'},inplace=True)\n",
    "df_loss.plot(title='Model loss',figsize=(12,8)).set(xlabel='Epoch',ylabel='Loss')\n",
    "df_acc.plot(title='Model Accuracy',figsize=(12,8)).set(xlabel='Epoch',ylabel='Accuracy')"
   ]
  },
  {
   "cell_type": "markdown",
   "metadata": {},
   "source": [
    "**Congratulations**! You've finished the assignment and built two models: One that recognizes  smiles, and another that recognizes SIGN language with almost 80% accuracy on the test set. In addition to that, you now also understand the applications of two Keras APIs: Sequential and Functional. Nicely done! \n",
    "\n",
    "By now, you know a bit about how the Functional API works and may have glimpsed the possibilities. In your next assignment, you'll really get a feel for its power when you get the opportunity to build a very deep ConvNet, using ResNets! "
   ]
  },
  {
   "cell_type": "markdown",
   "metadata": {},
   "source": [
    "<a name='6'></a>\n",
    "## 6 - Bibliography\n",
    "\n",
    "You're always encouraged to read the official documentation. To that end, you can find the docs for the Sequential and Functional APIs here: \n",
    "\n",
    "https://www.tensorflow.org/guide/keras/sequential_model\n",
    "\n",
    "https://www.tensorflow.org/guide/keras/functional"
   ]
  }
 ],
 "metadata": {
  "coursera": {
   "course_slug": "convolutional-neural-networks",
   "graded_item_id": "bwbJV",
   "launcher_item_id": "0TkXB"
  },
  "kernelspec": {
   "display_name": "Python 3",
   "language": "python",
   "name": "python3"
  },
  "language_info": {
   "codemirror_mode": {
    "name": "ipython",
    "version": 3
   },
   "file_extension": ".py",
   "mimetype": "text/x-python",
   "name": "python",
   "nbconvert_exporter": "python",
   "pygments_lexer": "ipython3",
   "version": "3.7.6"
  }
 },
 "nbformat": 4,
 "nbformat_minor": 2
}
